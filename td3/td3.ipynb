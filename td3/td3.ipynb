{
 "cells": [
  {
   "cell_type": "markdown",
   "metadata": {},
   "source": [
    "![UCA](http://caillau.perso.math.cnrs.fr/logo-uca.png)\n",
    "## L2 MIASHS - ANDE\n",
    "# TD 3 - Jeux\n",
    "\n",
    "[![Binder](https://mybinder.org/badge_logo.svg)](https://mybinder.org/v2/gh/jbcaillau/ande/master?urlpath=lab/tree/td3/td3.ipynb)\n",
    "\n",
    "[![Open In Colab](https://colab.research.google.com/assets/colab-badge.svg)](https://colab.research.google.com/github/jbcaillau/ande/blob/master/td3/td3.ipynb)\n",
    "\n",
    "## Exercice 1\n",
    "On considère le jeu classique de pierre-feuille-ciseaux, à deux joueurs, avec les règles suivantes :\n",
    "* la pierre casse les ciseaux\n",
    "* les ciseaux coupent le papier\n",
    "* le papier recouvre la feuille\n",
    "\n",
    "Le jeu est simultané, un joueur qui gagne marque un point, un joueur qui ne gagne pas (_i.e._ qui perd ou qui est à égalité) ne marque pas de point.\n",
    "\n",
    "### 1.1\n",
    "Mettre le jeu sous forme normale. Existe-t-il des équilibres ?\n",
    "\n",
    "### 1.2\n",
    "On suppose désormais que le joueur 2 arrive à deviner quand le joueur 1 s'apprête à jouer ciseaux (et uniquement ce coup). Proposer une nouvelle modélisation, et mettre le jeu sous forme extensive. Existe-t-il des équilibres ? Des stratégies dominées ou dominantes ?\n",
    "\n",
    "(Source : F.-X. Dehon)\n",
    "\n",
    "## Exercice 2\n",
    "On considère le jeu de poker simplifié à deux joueurs suivant. Trois mains sont possibles, numérotées de $1$ à $3$, de la plus faible à la plus forte. Chaque joueur, ayant reçu l'une de ces mains, met un jeton au pot. Le jeu se déroule ensuite selon le schéma ci-dessous (jeu séquentiel), sachant que, pour _miser_ ou pour _voir_, un joueur doit rajouter un jeton au pot (rien à mettre au pot si le joueur choisit de _passer_). Le gagnant emporte le pot. \n",
    "\n",
    "![Règles du jeu](poker.png)\n",
    "\n",
    "### 2.1\n",
    "Définir l'ensemble des stratégies pour chacun des joueurs.\n",
    "\n",
    "### 2.2\n",
    "En faisant l'hypothèse que chacun des trois mains à la même chance d'être distribuée, calculer le gain moyen de chaque joueur pour un couple de stratégies que vous choisirez."
   ]
  }
 ],
 "metadata": {
  "kernelspec": {
   "display_name": "Python 3",
   "language": "python",
   "name": "python3"
  },
  "language_info": {
   "codemirror_mode": {
    "name": "ipython",
    "version": 3
   },
   "file_extension": ".py",
   "mimetype": "text/x-python",
   "name": "python",
   "nbconvert_exporter": "python",
   "pygments_lexer": "ipython3",
   "version": "3.7.6"
  }
 },
 "nbformat": 4,
 "nbformat_minor": 5
}
