{
 "cells": [
  {
   "cell_type": "markdown",
   "metadata": {},
   "source": [
    "![UCA](http://caillau.perso.math.cnrs.fr/logo-uca.png)\n",
    "## L2 MIASHS - ANDE\n",
    "# TD 3 - Jeux\n",
    "\n",
    "[![Binder](https://mybinder.org/badge_logo.svg)](https://mybinder.org/v2/gh/jbcaillau/ande/master?urlpath=lab/tree/td3/td3.ipynb)\n",
    "\n",
    "[![Open In Colab](https://colab.research.google.com/assets/colab-badge.svg)](https://colab.research.google.com/github/jbcaillau/ande/blob/master/td3/td3.ipynb)\n",
    "\n",
    "## Exercice 1\n",
    "On considère le jeu classique de pierre-feuille-ciseaux, à deux joueurs, avec les règles suivantes :\n",
    "* la pierre casse les ciseaux\n",
    "* les ciseaux coupent le papier\n",
    "* le papier recouvre la feuille\n",
    "\n",
    "Le jeu est simultané, un joueur qui gagne marque un point, un joueur qui ne gagne pas (_i.e._ qui perd ou qui est à égalité) ne marque pas de point.\n",
    "\n",
    "### 1.1\n",
    "Mettre le jeu sous forme normale. Existe-t-il des équilibres ?\n",
    "\n",
    "### 1.2\n",
    "On suppose désormais que le joueur 2 arrive à deviner quand le joueur 1 s'apprête à jouer ciseaux (et uniquement ce coup). Proposer une nouvelle modélisation, et mettre le jeu sous forme extensive. Existe-t-il des équilibres ? Des stratégies dominées ou dominantes ?\n",
    "\n",
    "(Source : F.-X. Dehon)"
   ]
  }
 ],
 "metadata": {
  "kernelspec": {
   "display_name": "Python 3",
   "language": "python",
   "name": "python3"
  },
  "language_info": {
   "codemirror_mode": {
    "name": "ipython",
    "version": 3
   },
   "file_extension": ".py",
   "mimetype": "text/x-python",
   "name": "python",
   "nbconvert_exporter": "python",
   "pygments_lexer": "ipython3",
   "version": "3.7.6"
  }
 },
 "nbformat": 4,
 "nbformat_minor": 5
}
