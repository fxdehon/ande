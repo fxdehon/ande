{
 "cells": [
  {
   "cell_type": "markdown",
   "metadata": {},
   "source": [
    "![PNS](http://caillau.perso.math.cnrs.fr/logo-pns.png)\n",
    "## MAM3 - MI2\n",
    "# TD 1 - Calcul différentiel\n",
    "\n",
    "[![Binder](https://mybinder.org/badge_logo.svg)](https://mybinder.org/v2/gh/jbcaillau/mi2/master?urlpath=lab/tree/td1/td1.ipynb)\n",
    "\n",
    "[![Open In Colab](https://colab.research.google.com/assets/colab-badge.svg)](https://colab.research.google.com/github/jbcaillau/mi2/blob/master/td1/td1.ipynb)\n",
    "\n",
    "## Exercice 1\n",
    "### 1.1\n",
    "Montrer que l’application\n",
    "$f : \\mathbf{R}^n \\times \\mathbf{R}^n \\to \\mathbf{R}$ définie par\n",
    "$f(x,y):=(x|y)$ est dérivable et donner l’expression de sa dérivée.\n",
    "\n",
    "### 1.2\n",
    "Soient $f : \\mathbf{R}^n \\to \\mathbf{R}$ et\n",
    "$g : \\mathbf{R}^n \\to \\mathbf{R}^m$ deux applications dérivables.\n",
    "Montrer que l’application $k : \\mathbf{R}^n \\to \\mathbf{R}^m$ définie\n",
    "par $k(x):=f(x)g(x)$ est dérivable et donner l’expression de sa dérivée.\n",
    "\n",
    "## Exercice 2\n",
    "### 2.1\n",
    "Montrer que l’application $f : \\mathbf{R}^3 \\to \\mathbf{R}^2$ définie\n",
    "par\n",
    "$$ f(x_1,x_2,x_3) := \\left[ \\begin{array}{r} x_1\\cos(x_2 x_3)\\\\-x_2\\sin(x_1 x_3) \\end{array} \\right] $$\n",
    "est dérivable et donner l’expression de sa dérivée.\n",
    "### 2.2\n",
    "Montrer que l’application $f : \\mathbf{R}^2 \\to \\mathbf{R}^4$ définie\n",
    "par\n",
    "$$ f(x_1,x_2) := \\left[ \\begin{array}{r} x_1+x_2\\\\ x_2+x_1^2\\\\ x_1-x_2^3\\\\-x_2+x_1^4 \\end{array} \\right] $$\n",
    "est dérivable et donner l’expression de sa dérivée.\n",
    "\n",
    "## Exercice 3\n",
    "Soit $A \\in \\mathrm{M}(n,\\mathbf{R})$, $b \\in \\mathbf{R}^n$ et $c \\in R$.\n",
    "### 3.1\n",
    "Montrer que l’application $f : \\mathbf{R}^n \\to \\mathbf{R}$ définie par\n",
    "$$f(x) := \\frac{1}{2}(Ax|x)+(b|x)+c$$ est dérivable et donner\n",
    "l’expression de son gradient.\n",
    "### 3.2\n",
    "Montrer que $f$ est deux fois dérivable et donner son hessien.\n",
    "\n",
    "## Exercice 4\n",
    "### 4.1\n",
    "Soit $A \\in \\mathrm{M}(m,n,\\mathbf{R})$ et $b \\in \\mathbf{R}^m$. Montrer que\n",
    "l’application $f : \\mathbf{R}^n \\to \\mathbf{R}$ définie par\n",
    "$$f(x) := \\frac{1}{2} \\|Ax-b\\|^2$$ est deux fois dérivable et donner\n",
    "l’expression de son gradient et de son hessien.\n",
    "### 4.2\n",
    "Soit $F : \\mathbf{R}^n \\to \\mathbf{R}^m$ deux fois dérivable. Montrer\n",
    "que l’application $f : \\mathbf{R}^n \\to \\mathbf{R}$ définie par\n",
    "$$f(x) := \\frac{1}{2} \\|F(x)\\|^2$$ est deux fois dérivable et donner\n",
    "l’expression de son gradient et de son hessien.\n",
    "\n",
    "## Exercice 5\n",
    "Montrer que l’application\n",
    "$f : \\mathbf{R}^n\\backslash \\{0\\} \\to \\mathbf{R}$ définie par\n",
    "$$f(x) := \\|x\\|$$ est deux fois dérivable et donner l’expression de son\n",
    "gradient et de son hessien."
   ]
  }
 ],
 "metadata": {
  "kernelspec": {
   "display_name": "Python 3",
   "language": "python",
   "name": "python3"
  },
  "language_info": {
   "codemirror_mode": {
    "name": "ipython",
    "version": 3
   },
   "file_extension": ".py",
   "mimetype": "text/x-python",
   "name": "python",
   "nbconvert_exporter": "python",
   "pygments_lexer": "ipython3",
   "version": "3.7.6"
  }
 },
 "nbformat": 4,
 "nbformat_minor": 5
}
