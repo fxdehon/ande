{
 "cells": [
  {
   "cell_type": "markdown",
   "metadata": {},
   "source": [
    "![UCA](http://caillau.perso.math.cnrs.fr/logo-uca.png)\n",
    "## L2 MIASHS - ANDE\n",
    "# TD 1 - Choix, préférences, utilité\n",
    "\n",
    "[![Binder](https://mybinder.org/badge_logo.svg)](https://mybinder.org/v2/gh/jbcaillau/ande/master?urlpath=lab/tree/td1/td1.ipynb)\n",
    "\n",
    "[![Open In Colab](https://colab.research.google.com/assets/colab-badge.svg)](https://colab.research.google.com/github/jbcaillau/ande/blob/master/td1/td1.ipynb)\n",
    "\n",
    "## Exercice 1\n",
    "Montrer que la fonction de choix sur l'ensemble des cartes de vins vue en cours n'est pas cohérente.\n",
    "\n",
    "## Exercice 2\n",
    "Larry et Moe décident de partir en vacances ensemble. Soit $X$ l'ensemble fini de leurs destinations possibles.\n",
    "\n",
    "### 2.1\n",
    "On suppose que les fonctions de choix de chacun d'eux, notées respectivement $c_L$ et $c_M$ sont finiment non-vides et cohérentes. Dans l'idée d'arriver à un choix commun, les deux amis définissent la fonction de choix\n",
    "$$ c^*: A (\\neq \\emptyset) \\subset X \\mapsto c_L(A) \\cup c_M (A). $$\n",
    "Cette fonction est-elle finiment non-vide ? Cohérente ?\n",
    "\n",
    "### 2.2\n",
    "Déçus par cette première tentative, Larry et Moe décident de se baser sur leurs préférences, notées respectivement $\\preccurlyeq_L$ et $\\preccurlyeq_M$, que l'on suppose toutes deux rationnelles. Les deux amis définissent alors leur relation de préférence commune, notée $\\preccurlyeq^*$, selon\n",
    "$$ (\\forall (x,y) \\in X^2): x \\preccurlyeq^* y \\iff x \\preccurlyeq_L y \\quad \\text{ou} \\quad x \\preccurlyeq_M y. $$\n",
    "Montrer que cette relation est réflexive et complète, mais pas nécessairement transitive.\n",
    "\n",
    "### 2.3\n",
    "Y a-t-il un rapport entre la fonction de choix $c^*$ et la relation de préférence $\\preccurlyeq^*$ ?\n",
    "\n",
    "## Exercice 3\n",
    "Soit $c : A (\\neq \\emptyset) \\subset X \\mapsto c(A)$ une fonction de choix sur un ensemble fini $X$. On considère les deux propriétés suivantes, introduites par Amartya Sen (prix Nobel d'économie 1998):\n",
    "- propriété $(\\alpha)$ : soient $A (\\neq \\emptyset)\\subset B$, soit $x \\in A$ ; alors $x \\in c(B) \\implies x \\in c(A)$ ;\n",
    "ce que Sen traduit par : \"Si le meilleur footballeur du monde est brésilien, alors ce doit être le meilleur joueur du Brésil.\"\n",
    "- propriété $(\\beta)$ : soient $A (\\neq \\emptyset)\\subset B$, soient $x,y \\in c(A)$ ; alors $x \\in c(B) \\implies y \\in c(B)$ ;\n",
    "ce que Sen traduit par : \"Si le meilleur joueur du monde est brésilien, alors tout meilleur joueur du Brésil doit être l'un des meilleurs joueurs du monde.\"\n",
    "\n",
    "### 3.1\n",
    "Montrer qu'une fonction de choix finiment non-vide et cohérente vérifie les propriétés $(\\alpha)$ et $(\\beta)$.\n",
    "\n",
    "### 3.2\n",
    "Réciproquement, montrer que les propriétés $(\\alpha)$ et $(\\beta)$ impliquent la cohérence de la fonction de choix.\n",
    "\n",
    "## Exercice 4\n",
    "On considère sur $X = [0,1] \\times [0,1]$ la relation de préférence _lexicographique_, notée $\\preccurlyeq$ définie comme suit : soient $(x_1,x_2)$ et $(y_2,y_2)$ dans $X$,\n",
    "$$ (x_1,x_2) \\preccurlyeq (y_1,y_2) \\iff x_1 < y_1 \\quad \\text{ou} \\quad (x_1=y_1 \\quad \\text{et} \\quad x_2 \\leq y_2). $$\n",
    "\n",
    "### 4.1\n",
    "Montrer cette relation de préférence est rationnelle.\n",
    "\n",
    "### 4.2\n",
    "Montrer que cette relation n'est pas représentable par une fonction d'utilité.\n",
    "\n",
    "## Bibliographie\n",
    "Exercices tirés de : Kreps, D. M. _Microeconomic foundations I. Choice and competitive\n",
    "markets._ Princeton University Press, 2013."
   ]
  }
 ],
 "metadata": {
  "kernelspec": {
   "display_name": "Python 3",
   "language": "python",
   "name": "python3"
  },
  "language_info": {
   "codemirror_mode": {
    "name": "ipython",
    "version": 3
   },
   "file_extension": ".py",
   "mimetype": "text/x-python",
   "name": "python",
   "nbconvert_exporter": "python",
   "pygments_lexer": "ipython3",
   "version": "3.7.6"
  }
 },
 "nbformat": 4,
 "nbformat_minor": 5
}
