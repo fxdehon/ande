{
 "cells": [
  {
   "cell_type": "markdown",
   "metadata": {},
   "source": [
    "## Exercice 2\n",
    "### 2.1\n",
    "Soit $U:(x,y)\\mapsto U(x,y)$ une fonction d'utilité (à valeurs dans $\\mathbf{R}$) dont on cherche le maximum sous les contraintes conjointes $c_1(x,y)\\leq 0$, $c_2(x,y)\\leq 0$ et $c_3(x,y)\\leq 0$. On ne précise ni $U$ ni les $c_i$.\n",
    "On a exécuté la suite d'instructions ci-dessous et obtenu la réponse qui suit. Que peut on dire des couples $(x,y)$ où $U$ est maximal ? Expliquer.\n",
    "\n",
    "```python\n",
    "var('l,m,n')\n",
    "L = (U-l*c1-m*c2-n*c3).gradient()(x,y)\n",
    "S = solve([L[0]==0,L[1]==0,l*c1==0,m*c2==0,n*c3==0],[x,y,l,m,n])\n",
    "\n",
    "print '(x,y), (l,m,n), (c1(x,y),c2(x,y),c3(x,y)) ='\n",
    "ns = 1\n",
    "for s in S:\n",
    "    x,y,l,m,n = (s[i].rhs() for i in range(5))\n",
    "    print ns,(x.n(digits=2),y.n(digits=2)),(l.n(digits=2),m.n(digits=2),n.n(digits=2)),(c1(x,y).n(digits=2),c2(x,y).n(digits=2),c3(x,y).n(digits=2))\n",
    "    ns = ns+1\n",
    "\n",
    "(x,y), (l,m,n), (c1(x,y),c2(x,y),c3(x,y)) =\n",
    "1 (-2.0, 0.67) (0.00, 0.00, 0.00) (2.0, -0.67, -13.)  \n",
    "2 (-1.0, 0.00) (0.00, -3.0, 0.00) (1.0, 0.00, -10.)  \n",
    "3 (0.00, 0.00) (-2.0, -6.0, 0.00) (0.00, 0.00, -5.0)  \n",
    "4 (-0.38, 2.3) (0.00, 0.00, 1.6) (0.38, -2.3, 0.00)  \n",
    "5 (0.00, 1.7) (3.0, 0.00, 2.0) (0.00, -1.7, 0.00) \n",
    "6 (1.0, 0.00) (0.00, -6.6, 0.80) (-1.0, 0.00, 0.00)\n",
    "```\n",
    "\n",
    "### 2.2\n",
    "Discuter du maximum de la fonction d'utilité $U(x,y)=(5-x-y)(5-(x-2)^2)$ sous les contraintes $x\\geq 0$, $y\\geq 0$ et la contrainte de revenu $5x+3y\\leq r$ pour $r=20$ puis pour $r=5$."
   ]
  },
  {
   "cell_type": "markdown",
   "metadata": {},
   "source": [
    "#### Hors maquette : expérimentations"
   ]
  },
  {
   "cell_type": "code",
   "execution_count": null,
   "metadata": {
    "collapsed": false,
    "jupyter": {
     "outputs_hidden": false
    }
   },
   "outputs": [],
   "source": [
    "U(x,y)=(5-x-y)*(5-(x-2)^2)\n",
    "c1(x,y)=-x\n",
    "c2(x,y)=-y\n",
    "c3(x,y)=5*x+3*y-r"
   ]
  },
  {
   "cell_type": "code",
   "execution_count": 45,
   "metadata": {
    "collapsed": false,
    "jupyter": {
     "outputs_hidden": false
    }
   },
   "outputs": [],
   "source": [
    "U(x,y)=(x+2)*(x+3*y)\n",
    "c1(x,y)=-x\n",
    "c2(x,y)=-y\n",
    "c3(x,y)=5*x+3*y-5"
   ]
  },
  {
   "cell_type": "code",
   "execution_count": 46,
   "metadata": {
    "collapsed": false,
    "jupyter": {
     "outputs_hidden": false
    }
   },
   "outputs": [
    {
     "name": "stdout",
     "output_type": "stream",
     "text": [
      "(x,y), (l,m,n), (c1(x,y),c2(x,y),c3(x,y)) =\n",
      "1 (-2.0, 0.67) (0.00, 0.00, 0.00) (2.0, -0.67, -13.)\n",
      "2 (-1.0, 0.00) (0.00, -3.0, 0.00) (1.0, 0.00, -10.)\n",
      "3 (0.00, 0.00) (-2.0, -6.0, 0.00) (0.00, 0.00, -5.0)\n",
      "4 (-0.38, 2.3) (0.00, 0.00, 1.6) (0.38, -2.3, 0.00)\n",
      "5 (0.00, 1.7) (3.0, 0.00, 2.0) (0.00, -1.7, 0.00)\n",
      "6 (1.0, 0.00) (0.00, -6.6, 0.80) (-1.0, 0.00, 0.00)\n"
     ]
    }
   ],
   "source": [
    "var('l,m,n')\n",
    "L=(U-l*c1-m*c2-n*c3).gradient()(x,y)\n",
    "S=solve([L[0]==0,L[1]==0,l*c1==0,m*c2==0,n*c3==0],[x,y,l,m,n])\n",
    "\n",
    "print '(x,y), (l,m,n), (c1(x,y),c2(x,y),c3(x,y)) ='\n",
    "ns=1\n",
    "for s in S:\n",
    "    x,y,l,m,n=(s[i].rhs() for i in range(5))\n",
    "    print ns,(x.n(digits=2),y.n(digits=2)),(l.n(digits=2),m.n(digits=2),n.n(digits=2)),(c1(x,y).n(digits=2),c2(x,y).n(digits=2),c3(x,y).n(digits=2))\n",
    "    ns=ns+1"
   ]
  }
 ],
 "metadata": {
  "kernelspec": {
   "display_name": "Python 3",
   "language": "python",
   "name": "python3"
  },
  "language_info": {
   "codemirror_mode": {
    "name": "ipython",
    "version": 3
   },
   "file_extension": ".py",
   "mimetype": "text/x-python",
   "name": "python",
   "nbconvert_exporter": "python",
   "pygments_lexer": "ipython3",
   "version": "3.7.6"
  }
 },
 "nbformat": 4,
 "nbformat_minor": 4
}
