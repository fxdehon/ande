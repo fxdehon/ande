{
 "cells": [
  {
   "cell_type": "markdown",
   "metadata": {},
   "source": [
    "![UCA](http://caillau.perso.math.cnrs.fr/logo-uca.png)\n",
    "## L2 MIASHS - ANDE\n",
    "# TD 2 - Maximisation de l'utilité\n",
    "\n",
    "[![Binder](https://mybinder.org/badge_logo.svg)](https://mybinder.org/v2/gh/jbcaillau/ande/master?urlpath=lab/tree/td2/td2.ipynb)\n",
    "\n",
    "[![Open In Colab](https://colab.research.google.com/assets/colab-badge.svg)](https://colab.research.google.com/github/jbcaillau/ande/blob/master/td2/td2.ipynb)\n",
    "\n",
    "## Exercice 1\n",
    "Une consommatrice qui dispose d'un revenu $r>0$ doit faire un choix entre deux biens de prix unitaires respectifs $p_1=5$ et $p_2=3$. On note $x_1$ et $x_2$ les quantités correspondantes et on fait l'hypothèse que les préférences de cette consommatrice sont modélisées par la fonction d'utilité\n",
    "$$ u(x_1,x_2) = (x_1+2)(x_1+3x_2),\\quad x_1,x_2 \\geq 0. $$\n",
    "\n",
    "### 1.1\n",
    "Soit $u_0>0$ un niveau d'utilité fixé, la courbe d'indifférence associée est-elle croissante ou décroissante ? Que peut-on en déduire sur le taux marginal de subsitution $\\mathrm{TMS}_{12}$ ? Les préférences sont-elles convexes ?\n",
    "\n",
    "### 1.2\n",
    "Pour $u_0>0$ fixé, déterminer les intersections de la courbe d'indifférence associée avec les axes $x_1=0$ et $x_2=0$.\n",
    "\n",
    "### 1.3\n",
    "Formuler le problème de maximisation de l'utilité de cette consommatrice en fonction de son revenu $r>0$, puis écrire le Lagrangien de ce problème.\n",
    "\n",
    "### 1.4\n",
    "Résoudre ce problème et donner l'expression des demandes marshalliennes $\\bar{x}_1(r)$, $\\bar{x}_2(r)$ en fonction du revenu $r>0$.\n",
    "\n",
    "## Exercice 2\n",
    "On considère la consommatrice et les deux biens de prix respectifs $p_1=5$ et $p_2=3$ de l'exercice précédent.\n",
    "\n",
    "### 2.1\n",
    "Formuler le problème de minimisation de la dépense sous contrainte d'utilité supérieure ou égale à $u_0>0$ fixé, puis écrire le Lagrangien ce de problème.\n",
    "\n",
    "### 2.2\n",
    "On suppose que $u_0>0$ est tel qu'on a une solution intérieure aux contraintes. Résoudre le problème et donner l'expression des demandes hicksiennes, $h_1(u_0)$, $h_2(u_0)$, en fonction de $u_0$.\n",
    "\n",
    "### 2.3\n",
    "On note $d(u_0)=5h_1(u_0)+3h_2(u_0)$ la dépense minimale associée. À l'aide des demandes marshalliennes de l'exercice précédent, calculer $\\bar{x}(d(u_0))$ et $\\bar{y}(d(u_0))$. Que remarque-t-on ?\n",
    "\n",
    "## Bibliographie\n",
    "Exercices tirés de : Tenand, M. _Théorie du consommateur : Préférences, utilité et contrainte budgétaire._ ENS, 2017."
   ]
  }
 ],
 "metadata": {
  "kernelspec": {
   "display_name": "Python 3",
   "language": "python",
   "name": "python3"
  },
  "language_info": {
   "codemirror_mode": {
    "name": "ipython",
    "version": 3
   },
   "file_extension": ".py",
   "mimetype": "text/x-python",
   "name": "python",
   "nbconvert_exporter": "python",
   "pygments_lexer": "ipython3",
   "version": "3.7.6"
  }
 },
 "nbformat": 4,
 "nbformat_minor": 5
}
